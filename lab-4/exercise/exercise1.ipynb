{
 "cells": [
  {
   "cell_type": "markdown",
   "metadata": {},
   "source": [
    "# Lab 4\n",
    "\n",
    "1. 提交作業之前，建議可以先點選上方工具列的**Kernel**，再選擇**Restart & Run All**，檢查一下是否程式跑起來都沒有問題，最後記得儲存。\n",
    "2. 請先填上下方的姓名(name)及學號(stduent_id)再開始作答，例如：\n",
    "```python\n",
    "name = \"我的名字\"\n",
    "student_id= \"B06201000\"\n",
    "```\n",
    "3. 演算法的實作可以參考[lab-4](https://yuanyuyuan.github.io/itcm/lab-4.html), 有任何問題歡迎找助教詢問。\n",
    "4. **Deadline: 11/20(Wed.)**"
   ]
  },
  {
   "cell_type": "code",
   "execution_count": 1,
   "metadata": {},
   "outputs": [],
   "source": [
    "name = \"鄭如芳\"\n",
    "student_id = \"B05602020\""
   ]
  },
  {
   "cell_type": "markdown",
   "metadata": {},
   "source": [
    "---"
   ]
  },
  {
   "cell_type": "markdown",
   "metadata": {
    "deletable": false,
    "editable": false,
    "nbgrader": {
     "cell_type": "markdown",
     "checksum": "d915e5d55e1ad8103e2470ea806b40fe",
     "grade": false,
     "grade_id": "cell-77c6ae72165ce4fa",
     "locked": true,
     "schema_version": 3,
     "solution": false,
     "task": false
    }
   },
   "source": [
    "# Exercise 1.  Finite Difference\n",
    "---"
   ]
  },
  {
   "cell_type": "markdown",
   "metadata": {
    "deletable": false,
    "editable": false,
    "nbgrader": {
     "cell_type": "markdown",
     "checksum": "3888d996728b1d72fc685070a89ad64c",
     "grade": false,
     "grade_id": "cell-3f9be0967027b907",
     "locked": true,
     "schema_version": 3,
     "solution": false,
     "task": false
    }
   },
   "source": [
    "### Part 0.\n",
    "\n",
    "#### Import necessary libraries. Note that diags library from scipy is used to construct the differentiation matrix below."
   ]
  },
  {
   "cell_type": "code",
   "execution_count": 2,
   "metadata": {
    "deletable": false,
    "editable": false,
    "nbgrader": {
     "cell_type": "code",
     "checksum": "02fe178acbd1d641b6b85a1d8af59b16",
     "grade": false,
     "grade_id": "cell-47d0def1dea31202",
     "locked": true,
     "schema_version": 3,
     "solution": false,
     "task": false
    }
   },
   "outputs": [],
   "source": [
    "import numpy as np\n",
    "import matplotlib.pyplot as plt\n",
    "from scipy.sparse import diags"
   ]
  },
  {
   "cell_type": "markdown",
   "metadata": {
    "deletable": false,
    "editable": false,
    "nbgrader": {
     "cell_type": "markdown",
     "checksum": "e87e1f844540f42475489281dd1542bf",
     "grade": false,
     "grade_id": "cell-727dcc19a86ff560",
     "locked": true,
     "schema_version": 3,
     "solution": false,
     "task": false
    }
   },
   "source": [
    "---\n",
    "\n",
    "### Part 1. \n",
    "\n",
    "#### Given a function $u(x)$ which we want to find its derivative with numerical methods.\n",
    "\n",
    "#### Consider a uniform grid partitioning $x$ into $\\{x_1, x_2, \\dots, x_n\\}$ with grid size $\\Delta x=x_{j+1}-x_j, j\\in \\{1, 2, \\dots, n\\}$, and a set of corresponding data values $U=\\{U_1, U_2, \\dots, U_n\\}$, where \n",
    "#### $$U_{j+k} = u(x_j + k \\Delta x) = u(x_{j+k}), j\\in \\{1, 2, \\dots, n\\}.$$\n",
    "\n",
    "#### We want to use one-sided finite-difference formula \n",
    "\n",
    "#### $$\\alpha_1 U_j + \\alpha_2 U_{j+1} + \\alpha_3 U_{j+2}$$\n",
    "\n",
    "#### to approximate the derivative of $u$ at all the points $x_j, j\\in \\{1, 2, \\dots, n\\}$, that is\n",
    "\n",
    "#### $$u'(x_j) \\approx W_j \\triangleq \\alpha_1 U_j + \\alpha_2 U_{j+1} + \\alpha_3 U_{j+2}.$$\n",
    "\n",
    "---"
   ]
  },
  {
   "cell_type": "markdown",
   "metadata": {
    "deletable": false,
    "editable": false,
    "nbgrader": {
     "cell_type": "markdown",
     "checksum": "4c8a899ddb2aecd9493fdf1445639f56",
     "grade": false,
     "grade_id": "cell-40125559aac41f9e",
     "locked": true,
     "points": 4,
     "schema_version": 3,
     "solution": false,
     "task": true
    }
   },
   "source": [
    "#### Part 1.1\n",
    "\n",
    "Find the coefficients $\\alpha_j$ for $j=1,2,3$ which make the stencil above accurate for as high degree polynomials as possible.\n",
    "\n",
    "Write down your derivation in detail with Markdown/LaTeX."
   ]
  },
  {
   "cell_type": "markdown",
   "metadata": {},
   "source": [
    "$$By\\,Taylor\\,expansion\\\\\n",
    "U_j=u(x_j)\\\\\n",
    "U_j+1=u(x_j+\\Delta x)\\approx u(x_j)+\\Delta x u'(x_j)+\\frac{(\\Delta x)^2}{2}u''(x)\\\\\n",
    "U_j+2=u(x_j+2\\Delta x)\\approx u(x_j)+2\\Delta x u'(x_j)+\\frac{4\\Delta x^2)}{2}u''(x_j)\\\\\n",
    "Thus\\,\\alpha_1=\\frac{-3}{2\\Delta x}\\\\\n",
    "\\alpha_2=\\frac{4}{2\\Delta x}\\\\\n",
    "\\alpha_3=\\frac{-1}{2\\Delta x}$$"
   ]
  },
  {
   "cell_type": "markdown",
   "metadata": {
    "deletable": false,
    "editable": false,
    "nbgrader": {
     "cell_type": "markdown",
     "checksum": "0b799b20f3a51b2ceef7def51b943e22",
     "grade": false,
     "grade_id": "cell-4249ffacaafda2ec",
     "locked": true,
     "schema_version": 3,
     "solution": false,
     "task": false
    }
   },
   "source": [
    "#### Part 1.2\n",
    "\n",
    "Fill in the tuple variable `alpha` of lenght 3 with your answer above. "
   ]
  },
  {
   "cell_type": "code",
   "execution_count": 3,
   "metadata": {
    "deletable": false,
    "nbgrader": {
     "cell_type": "code",
     "checksum": "b222f9c201de9ae23e2cd5d00fe2721b",
     "grade": false,
     "grade_id": "cell-1d64e8cd26546f24",
     "locked": false,
     "schema_version": 3,
     "solution": true,
     "task": false
    }
   },
   "outputs": [],
   "source": [
    "# Hint: alpha = [value of alpha_1, value of alpha_2, value of alpha_3]\n",
    "# ===== 請實做程式 =====\n",
    "alpha=[-3/2,2,-1/2]\n",
    "# ===================="
   ]
  },
  {
   "cell_type": "code",
   "execution_count": 4,
   "metadata": {
    "deletable": false,
    "editable": false,
    "nbgrader": {
     "cell_type": "code",
     "checksum": "acf8b6e55611b9356dae225ca4036a8c",
     "grade": true,
     "grade_id": "cell-e7c9469885bebc80",
     "locked": true,
     "points": 2,
     "schema_version": 3,
     "solution": false,
     "task": false
    }
   },
   "outputs": [
    {
     "name": "stdout",
     "output_type": "stream",
     "text": [
      "My alpha = [-1.5, 2, -0.5]\n"
     ]
    }
   ],
   "source": [
    "print('My alpha =', alpha)"
   ]
  },
  {
   "cell_type": "markdown",
   "metadata": {
    "deletable": false,
    "editable": false,
    "nbgrader": {
     "cell_type": "markdown",
     "checksum": "5f67cc353f63a3dde9f99f4ee9453204",
     "grade": false,
     "grade_id": "cell-179c3599fb58f3bb",
     "locked": true,
     "schema_version": 3,
     "solution": false,
     "task": false
    }
   },
   "source": [
    "---\n",
    "\n",
    "### Part 2.\n",
    "\n",
    "#### Suppose we use the finite-difference formula above to approximate and assume the problem is periodic, i.e. take $U_0=U_n$, $U_1=U_{n+1}$, and so on. \n",
    "\n",
    "#### Find the differentiation matrix $D$ so that the numerical differentiation problem can be represented as a matrix-vector multiplication $W \\triangleq DU$, where $D \\in \\mathbb{R}^{n \\times n}$, $U \\in \\mathbb{R}^{n}$, and $W \\in \\mathbb{R}^n$.\n",
    "\n",
    "---"
   ]
  },
  {
   "cell_type": "markdown",
   "metadata": {
    "deletable": false,
    "editable": false,
    "nbgrader": {
     "cell_type": "markdown",
     "checksum": "a36b49757b3e2aad09b23884468983d0",
     "grade": false,
     "grade_id": "cell-03143a31dabbd788",
     "locked": true,
     "schema_version": 3,
     "solution": false,
     "task": false
    }
   },
   "source": [
    "#### Part 2.1\n",
    "\n",
    "Complete the following function to construct the desired differentiation matrix under the __periodic boundary condition__ with given number of partition $n$, coefficients of 3-point finite-difference formula $\\alpha$, and mesh size $\\Delta x$."
   ]
  },
  {
   "cell_type": "code",
   "execution_count": 66,
   "metadata": {
    "deletable": false,
    "nbgrader": {
     "cell_type": "code",
     "checksum": "106396d71374c4e2e647a0bcd39a92c1",
     "grade": false,
     "grade_id": "cell-60c8be4957fdc744",
     "locked": false,
     "schema_version": 3,
     "solution": true,
     "task": false
    }
   },
   "outputs": [],
   "source": [
    "def construct_differentiation_matrix(n, alpha, delta_x):\n",
    "    ''' Construct\n",
    "    Parameters\n",
    "    ----------\n",
    "    n : int\n",
    "        number of partition\n",
    "    alpha : tuple of length 3\n",
    "       alpha = (𝛼1, 𝛼2, 𝛼3)\n",
    "    delta_x : float\n",
    "        mesh size\n",
    "        \n",
    "    Returns\n",
    "    -------\n",
    "    D : scipy.sparse.diags\n",
    "    '''\n",
    "    # ===== 請實做程式 =====\n",
    "    diagonals = \n",
    "        [alpha[0] * np.ones(n),\n",
    "         alpha[1] * np.ones(n-1),\n",
    "         alpha[2] * np.ones(n-2),\n",
    "         alpha[1] * np.ones(1),\n",
    "         alpha[2] * np.ones(2)]\n",
    "    D=diags(diagonals, offsets=[0, 1, 2,-n+1,-n+2])\n",
    "    D/=delta_x \n",
    "    '''\n",
    "    I originally want to use method below\n",
    "    D1=alpha[0]*np.eye(n)\n",
    "    D2=alpha[1]*np.eye(n,k=1)\n",
    "    D3=alpha[2]*np.eye(n,k=2)\n",
    "    D4=alpha[2]*np.eye(n,k=-(n-2))\n",
    "    D5=alpha[1]*np.eye(n,k=-(n-1))\n",
    "    D=D1+D2+D3+D4+D5\n",
    "    D=D/delta_x\n",
    "    but I don't know why if I do so,\n",
    "    then Part2.2 get error with \n",
    "    'numpy.ndarray' object has no attribute 'toarray' lol\n",
    "    '''\n",
    "    # ====================\n",
    "    return D"
   ]
  },
  {
   "cell_type": "markdown",
   "metadata": {
    "deletable": false,
    "editable": false,
    "nbgrader": {
     "cell_type": "markdown",
     "checksum": "129bfee64369618db7b12c3c8c5952c5",
     "grade": false,
     "grade_id": "cell-47f7613e1b7e1442",
     "locked": true,
     "schema_version": 3,
     "solution": false,
     "task": false
    }
   },
   "source": [
    "#### Part 2.2\n",
    "\n",
    "Print and check your implementation."
   ]
  },
  {
   "cell_type": "code",
   "execution_count": 67,
   "metadata": {
    "deletable": false,
    "editable": false,
    "nbgrader": {
     "cell_type": "code",
     "checksum": "92c8340d52b45218e80b62d92fd3bd52",
     "grade": true,
     "grade_id": "cell-2ca00ba5ff115302",
     "locked": true,
     "points": 4,
     "schema_version": 3,
     "solution": false,
     "task": false
    }
   },
   "outputs": [
    {
     "name": "stdout",
     "output_type": "stream",
     "text": [
      "For n = 8 and mesh size 1, D in dense form is\n",
      "[[-1.5  2.  -0.5  0.   0.   0.   0.   0. ]\n",
      " [ 0.  -1.5  2.  -0.5  0.   0.   0.   0. ]\n",
      " [ 0.   0.  -1.5  2.  -0.5  0.   0.   0. ]\n",
      " [ 0.   0.   0.  -1.5  2.  -0.5  0.   0. ]\n",
      " [ 0.   0.   0.   0.  -1.5  2.  -0.5  0. ]\n",
      " [ 0.   0.   0.   0.   0.  -1.5  2.  -0.5]\n",
      " [-0.5  0.   0.   0.   0.   0.  -1.5  2. ]\n",
      " [ 2.  -0.5  0.   0.   0.   0.   0.  -1.5]]\n"
     ]
    }
   ],
   "source": [
    "print(\"For n = 8 and mesh size 1, D in dense form is\")\n",
    "sparse_D = construct_differentiation_matrix(8, alpha, 1)\n",
    "dense_D = sparse_D.toarray()\n",
    "print(dense_D)"
   ]
  },
  {
   "cell_type": "markdown",
   "metadata": {
    "deletable": false,
    "editable": false,
    "nbgrader": {
     "cell_type": "markdown",
     "checksum": "64ea0b570d1b8dfeeeb028fdeab7781d",
     "grade": false,
     "grade_id": "cell-6953b6af24427615",
     "locked": true,
     "schema_version": 3,
     "solution": false,
     "task": false
    }
   },
   "source": [
    "---\n",
    "\n",
    "### Part 3.\n",
    "\n",
    "\n",
    "#### Take $u(x)=e^{\\sin x}$ on the domain $[-\\pi, \\pi]$.  Find the finite difference approximation $W$ for $\\{u'(x_j)\\}^{n}_{j=1}$ for various values of $n=2^{k}$, $k=3,4,\\dots,10$, and analyze the errors.\n",
    "\n",
    "---"
   ]
  },
  {
   "cell_type": "markdown",
   "metadata": {
    "deletable": false,
    "editable": false,
    "nbgrader": {
     "cell_type": "markdown",
     "checksum": "c7321c95943375dc600837cf23bb182b",
     "grade": false,
     "grade_id": "cell-e43af19e44e673ce",
     "locked": true,
     "schema_version": 3,
     "solution": false,
     "task": false
    }
   },
   "source": [
    "#### Part 3.1\n",
    "\n",
    "Define the functinos $u$ and $u'(x)$."
   ]
  },
  {
   "cell_type": "code",
   "execution_count": 55,
   "metadata": {
    "deletable": false,
    "nbgrader": {
     "cell_type": "code",
     "checksum": "890f213d86ea9d27890a7617ddb74949",
     "grade": false,
     "grade_id": "cell-4f2d42d6e2c86167",
     "locked": false,
     "schema_version": 3,
     "solution": true,
     "task": false
    }
   },
   "outputs": [],
   "source": [
    "def u(x):\n",
    "    # ===== 請實做程式 =====\n",
    "    return np.exp(np.sin(x))\n",
    "    # ====================\n",
    "\n",
    "def d_u(x):\n",
    "    # ===== 請實做程式 =====\n",
    "    return np.cos(x)*np.exp(np.sin(x))\n",
    "    # ===================="
   ]
  },
  {
   "cell_type": "markdown",
   "metadata": {
    "deletable": false,
    "editable": false,
    "nbgrader": {
     "cell_type": "markdown",
     "checksum": "08d5c0afadfbc5bf537364ea74767b2f",
     "grade": false,
     "grade_id": "cell-ee50eb6d52b5601a",
     "locked": true,
     "schema_version": 3,
     "solution": false,
     "task": false
    }
   },
   "source": [
    "Plot and check the functions"
   ]
  },
  {
   "cell_type": "code",
   "execution_count": 56,
   "metadata": {
    "deletable": false,
    "editable": false,
    "nbgrader": {
     "cell_type": "code",
     "checksum": "03876edf53ebce27410843b08e67d6b7",
     "grade": true,
     "grade_id": "cell-f97d6fb0842a6055",
     "locked": true,
     "points": 2,
     "schema_version": 3,
     "solution": false,
     "task": false
    }
   },
   "outputs": [
    {
     "data": {
      "image/png": "[encoded data removed]",
      "text/plain": [
       "<Figure size 1152x648 with 1 Axes>"
      ]
     },
     "metadata": {
      "needs_background": "light"
     },
     "output_type": "display_data"
    }
   ],
   "source": [
    "x_range = np.linspace(-np.pi-1, np.pi+1, 2**8)\n",
    "plt.figure(figsize=(16, 9))\n",
    "plt.plot(x_range, u(x_range))\n",
    "plt.axvline(x=np.pi, linestyle='--')\n",
    "plt.axvline(x=-np.pi, linestyle='--')\n",
    "plt.ylabel(r'$u$')\n",
    "plt.xlabel(r'$x$')\n",
    "plt.title(r'$u(x)$')\n",
    "plt.show()"
   ]
  },
  {
   "cell_type": "markdown",
   "metadata": {
    "deletable": false,
    "editable": false,
    "nbgrader": {
     "cell_type": "markdown",
     "checksum": "3786ad636335748614cbe7adb223a29e",
     "grade": false,
     "grade_id": "cell-73f4733114122160",
     "locked": true,
     "points": 4,
     "schema_version": 3,
     "solution": false,
     "task": true
    }
   },
   "source": [
    "#### Part 3.2\n",
    "\n",
    "Plot the $u'$ and $W$ together for each point $x_j, j \\in \\{1, 2, \\dots, n\\}$ with $n=2^k, k\\in \\{3, 4, \\dots, 10\\}$. Note that there're total 8 figures to be plotted. And you need to compute the error, display them in the plots, and store them into the list variable `error_list` for further analysis below."
   ]
  },
  {
   "cell_type": "code",
   "execution_count": 113,
   "metadata": {
    "deletable": false,
    "nbgrader": {
     "cell_type": "code",
     "checksum": "fe00620e66b449f6244f845fc077274f",
     "grade": false,
     "grade_id": "cell-9fb8b258b12ce3fc",
     "locked": false,
     "schema_version": 3,
     "solution": true,
     "task": false
    }
   },
   "outputs": [
    {
     "data": {
      "image/png": "[encoded data removed]",
      "text/plain": [
       "<Figure size 1152x648 with 8 Axes>"
      ]
     },
     "metadata": {
      "needs_background": "light"
     },
     "output_type": "display_data"
    }
   ],
   "source": [
    "error_list = []\n",
    "fig, axes = plt.subplots(2, 4, figsize=(16,9))\n",
    "for idx, ax in enumerate(axes.flatten()):\n",
    "    \n",
    "    '''Hints: \n",
    "    For each case in this for loop, you may follow the steps below\n",
    "        1. Use idx to set k and n.\n",
    "        2. Prepare n partition points of the domain.\n",
    "        3. Construct D.\n",
    "        4. Find u', U, and W. \n",
    "        5. Compute the error between u' and W.\n",
    "        6. Append the error into error_list.\n",
    "        7. Use ax to plot u', W with proper labels, title\n",
    "        8. Enable legend to show the labels of curves.\n",
    "        9. To make the plots more readable, set a consistent range of y-axis e.g. ax.set_ylim([-3, 3])\n",
    "    '''\n",
    "    # ===== 請實做程式 =====\n",
    "    k=idx+3 \n",
    "    n=2**k #there are k points\n",
    "    mesh_size=(2*np.pi)/n\n",
    "    partition=np.linspace(-np.pi,np.pi,n)\n",
    "    f_partition=[u(partition)]\n",
    "    f_partition=np.transpose(f_partition)\n",
    "    \n",
    "    D = construct_differentiation_matrix(n,alpha,mesh_size)  \n",
    "    D = D.toarray()  \n",
    "    \n",
    "    T = d_u(partition)         #Ture  \n",
    "    W = np.dot(D,f_partition)  #estimated\n",
    "                   \n",
    "    ax.plot(partition, W,label='Estimate')\n",
    "    ax.plot(partition, T,label='True')\n",
    "    ax.set_title(\"k=\"+str(k))\n",
    "    ax.set_ylim([-3, 3])\n",
    "    ax.legend()\n",
    "    # ===================="
   ]
  },
  {
   "cell_type": "markdown",
   "metadata": {
    "deletable": false,
    "editable": false,
    "nbgrader": {
     "cell_type": "markdown",
     "checksum": "3917365740078571eb95c714d8bacb6b",
     "grade": false,
     "grade_id": "cell-959890128cb6ef8e",
     "locked": true,
     "schema_version": 3,
     "solution": false,
     "task": false
    }
   },
   "source": [
    "Plot the `error_list` with respect to $k=3, 4, \\dots, 10$ in log scale to show the error behavior."
   ]
  },
  {
   "cell_type": "code",
   "execution_count": 114,
   "metadata": {
    "deletable": false,
    "nbgrader": {
     "cell_type": "code",
     "checksum": "6afdeeb320e66e858399285d5578c1ba",
     "grade": false,
     "grade_id": "cell-b9c254225b4e1b79",
     "locked": false,
     "schema_version": 3,
     "solution": true,
     "task": false
    }
   },
   "outputs": [
    {
     "data": {
      "image/png": "[encoded data removed]",
      "text/plain": [
       "<Figure size 1152x648 with 8 Axes>"
      ]
     },
     "metadata": {
      "needs_background": "light"
     },
     "output_type": "display_data"
    }
   ],
   "source": [
    "    fig, axes = plt.subplots(2, 4, figsize=(16,9))\n",
    "    '''\n",
    "    I tried  \n",
    "    T = [T[i] for i in range(0,len(T))]\n",
    "    W = [W[i][0] for i in range(0,len(T))]\n",
    "    partiton = [partition[i] for i in range(0,len(T))]\n",
    "    error = [np.abs(T[i]-W[i]) for i in range(len(T))]\n",
    "    error_list.append(error)\n",
    "    but failed to plot this QQ\n",
    "    '''"
   ]
  },
  {
   "cell_type": "markdown",
   "metadata": {
    "deletable": false,
    "editable": false,
    "nbgrader": {
     "cell_type": "markdown",
     "checksum": "990610883dde8a0309f0dd22594aaa95",
     "grade": false,
     "grade_id": "cell-ac743deda396c9ca",
     "locked": true,
     "points": 4,
     "schema_version": 3,
     "solution": false,
     "task": true
    }
   },
   "source": [
    "#### Part 3.3\n",
    "\n",
    "From the figure above, what rates of convergence do you observe as $\\Delta x \\to 0$?"
   ]
  },
  {
   "cell_type": "markdown",
   "metadata": {},
   "source": [
    "> Please write down your answer here."
   ]
  }
 ],
 "metadata": {
  "jupytext": {
   "encoding": "# -*- coding: utf-8 -*-",
   "text_representation": {
    "extension": ".py",
    "format_name": "light",
    "format_version": "1.4",
    "jupytext_version": "1.2.3"
   }
  },
  "kernelspec": {
   "display_name": "Python 3",
   "language": "python",
   "name": "python3"
  },
  "language_info": {
   "codemirror_mode": {
    "name": "ipython",
    "version": 3
   },
   "file_extension": ".py",
   "mimetype": "text/x-python",
   "name": "python",
   "nbconvert_exporter": "python",
   "pygments_lexer": "ipython3",
   "version": "3.7.3"
  }
 },
 "nbformat": 4,
 "nbformat_minor": 2
}
