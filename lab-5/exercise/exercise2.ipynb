{
 "cells": [
  {
   "cell_type": "markdown",
   "metadata": {},
   "source": [
    "# Lab 5\n",
    "\n",
    "1. 提交作業之前，建議可以先點選上方工具列的**Kernel**，再選擇**Restart & Run All**，檢查一下是否程式跑起來都沒有問題，最後記得儲存。\n",
    "2. 請先填上下方的姓名(name)及學號(stduent_id)再開始作答，例如：\n",
    "```python\n",
    "name = \"我的名字\"\n",
    "student_id= \"B06201000\"\n",
    "```\n",
    "3. 演算法的實作可以參考[lab-5](https://yuanyuyuan.github.io/itcm/lab-5.html), 有任何問題歡迎找助教詢問。\n",
    "4. **Deadline: 12/11(Wed.)**"
   ]
  },
  {
   "cell_type": "code",
   "execution_count": 1,
   "metadata": {},
   "outputs": [],
   "source": [
    "name = \"鄭如芳\"\n",
    "student_id = \"B05602020\""
   ]
  },
  {
   "cell_type": "markdown",
   "metadata": {},
   "source": [
    "---"
   ]
  },
  {
   "cell_type": "markdown",
   "metadata": {
    "deletable": false,
    "editable": false,
    "nbgrader": {
     "cell_type": "markdown",
     "checksum": "b0a51ddbe950979b3d0f3e929cd0f8c4",
     "grade": false,
     "grade_id": "cell-0c39c8573deeb1d6",
     "locked": true,
     "schema_version": 3,
     "solution": false,
     "task": false
    }
   },
   "source": [
    "# Exercise 2"
   ]
  },
  {
   "cell_type": "markdown",
   "metadata": {
    "deletable": false,
    "editable": false,
    "nbgrader": {
     "cell_type": "markdown",
     "checksum": "446a6fb9e78d9bf56e86e3e10b766f83",
     "grade": false,
     "grade_id": "cell-c842573c9deb7461",
     "locked": true,
     "schema_version": 3,
     "solution": false,
     "task": false
    }
   },
   "source": [
    "### Suppose that a planet follows an elliptical orbit, which can be represented in a Cartesian coordinate system by the equation of the form\n",
    "\n",
    "### $$\\alpha_{1} y^{2} + \\alpha_{2} x y + \\alpha_{3} x + \\alpha_{4} y + \\alpha_{5} = x^{2}.\\ \\ \\ \\ \\ \\ \\ \\ \\ (1)$$\n",
    "\n",
    "### Based on the observation of the planet's position:\n",
    "\n",
    "### $$    \\left [\n",
    "      \\begin{array}{c}\n",
    "       x \\\\\n",
    "       y\n",
    "      \\end{array}\n",
    "    \\right ] =\n",
    "    \\left [\n",
    "      \\begin{array}{cccccccccc}\n",
    "   1.02 & 0.95 & 0.87 & 0.77 & 0.67 & 0.56 & 0.44 & 0.30 & 0.16 & 0.01\\\\\n",
    "   0.39 & 0.32 & 0.27 & 0.22 & 0.18 & 0.15 & 0.13 & 0.12 & 0.13 & 0.15\n",
    "      \\end{array}\n",
    "    \\right ],$$\n",
    "   \n",
    "###   we want to determine the orbital parameters $\\alpha_{i}$, $i=1,2,\\cdots, 5$, that solve the linear least squares problem of the form: $\\min_{\\alpha_{i}} \\| b - A\\alpha \\|_{2}$, where the vector $b \\in \\mathbb{R}^{10}$, $\\alpha = [\\alpha_1, \\alpha_2, \\alpha_3, \\alpha_4, \\alpha_5]^{T}\\in \\mathbb{R}^{5}$ and the matrix $A \\in \\mathbb{R}^{10\\times 5}$ can be obtained easily when we substitute the aboe data to the  equation (1). \n",
    "\n",
    "---\n"
   ]
  },
  {
   "cell_type": "markdown",
   "metadata": {
    "deletable": false,
    "editable": false,
    "nbgrader": {
     "cell_type": "markdown",
     "checksum": "13487fb744d5377aef17bb6b63bcb59a",
     "grade": false,
     "grade_id": "cell-b2da179f4accae72",
     "locked": true,
     "schema_version": 3,
     "solution": false,
     "task": false
    }
   },
   "source": [
    "## Part 0\n",
    "\n",
    "Import necessary libraries\n"
   ]
  },
  {
   "cell_type": "code",
   "execution_count": 2,
   "metadata": {
    "deletable": false,
    "editable": false,
    "nbgrader": {
     "cell_type": "code",
     "checksum": "b6838578e6b19268e7936e675e398194",
     "grade": false,
     "grade_id": "cell-4a168c77db3fef83",
     "locked": true,
     "schema_version": 3,
     "solution": false,
     "task": false
    }
   },
   "outputs": [],
   "source": [
    "import numpy as np\n",
    "import matplotlib.pyplot as plt"
   ]
  },
  {
   "cell_type": "markdown",
   "metadata": {
    "deletable": false,
    "editable": false,
    "nbgrader": {
     "cell_type": "markdown",
     "checksum": "d07d6a9f50533bbf58c1393abc60ba63",
     "grade": false,
     "grade_id": "cell-a96efad4fd5ed751",
     "locked": true,
     "schema_version": 3,
     "solution": false,
     "task": false
    }
   },
   "source": [
    "---\n",
    "\n",
    "## Part 1\n",
    "\n",
    "### Find the solution of the problem by solving the associated normal equations via Cholesky factorization."
   ]
  },
  {
   "cell_type": "markdown",
   "metadata": {
    "deletable": false,
    "editable": false,
    "nbgrader": {
     "cell_type": "markdown",
     "checksum": "933f8e561f108be6902df8ddcbe6c3e9",
     "grade": false,
     "grade_id": "cell-d8e924c61393c557",
     "locked": true,
     "schema_version": 3,
     "solution": false,
     "task": false
    }
   },
   "source": [
    "### Part 1.1 \n",
    "\n",
    "Prepare data vector $x$, $y$ and store them into 1D arrays: `data_x`, `data_y`."
   ]
  },
  {
   "cell_type": "code",
   "execution_count": 3,
   "metadata": {
    "deletable": false,
    "nbgrader": {
     "cell_type": "code",
     "checksum": "35b318d843e2691eed51138f3456ca0d",
     "grade": false,
     "grade_id": "cell-9c987a0c015421c4",
     "locked": false,
     "schema_version": 3,
     "solution": true,
     "task": false
    }
   },
   "outputs": [],
   "source": [
    "'''\n",
    "Hint:\n",
    "    data_x = ?\n",
    "    data_y = ?\n",
    "'''\n",
    "\n",
    "# ===== 請實做程式 =====\n",
    "data_x=np.array([1.02,0.95,0.87,0.77,0.67,0.56,0.44,0.30,0.16,0.01])\n",
    "data_y=np.array([0.39,0.32,0.27,0.22,0.18,0.15,0.13,0.12,0.13,0.15])\n",
    "# ===================="
   ]
  },
  {
   "cell_type": "markdown",
   "metadata": {
    "deletable": false,
    "editable": false,
    "nbgrader": {
     "cell_type": "markdown",
     "checksum": "19f60a86027d385a76469b5332b48bc7",
     "grade": false,
     "grade_id": "cell-b9a7cc8de18aeb48",
     "locked": true,
     "schema_version": 3,
     "solution": false,
     "task": false
    }
   },
   "source": [
    "Check your `data_x` and `data_y`."
   ]
  },
  {
   "cell_type": "code",
   "execution_count": 6,
   "metadata": {
    "deletable": false,
    "editable": false,
    "nbgrader": {
     "cell_type": "code",
     "checksum": "47a08401c64959caa9d42b068e8c1028",
     "grade": true,
     "grade_id": "cell-3b704739d6fd2990",
     "locked": true,
     "points": 2,
     "schema_version": 3,
     "solution": false,
     "task": false
    }
   },
   "outputs": [
    {
     "name": "stdout",
     "output_type": "stream",
     "text": [
      "x = [1.02 0.95 0.87 0.77 0.67 0.56 0.44 0.3  0.16 0.01]\n",
      "y = [0.39 0.32 0.27 0.22 0.18 0.15 0.13 0.12 0.13 0.15]\n"
     ]
    }
   ],
   "source": [
    "print('x =', data_x)\n",
    "print('y =', data_y)"
   ]
  },
  {
   "cell_type": "markdown",
   "metadata": {
    "deletable": false,
    "editable": false,
    "nbgrader": {
     "cell_type": "markdown",
     "checksum": "f4e0e1a60c30afd82ff15b958f8145ce",
     "grade": false,
     "grade_id": "cell-2991379e101e537c",
     "locked": true,
     "schema_version": 3,
     "solution": false,
     "task": false
    }
   },
   "source": [
    "### Part 1.2\n",
    "\n",
    "Construct the matrix $A$ and the vector $b$ with the data $x,y$ and the equation (1). "
   ]
  },
  {
   "cell_type": "code",
   "execution_count": 7,
   "metadata": {
    "deletable": false,
    "nbgrader": {
     "cell_type": "code",
     "checksum": "89ed4e302e270750eea4acc49e2c966f",
     "grade": false,
     "grade_id": "cell-98b634b0a2a3594d",
     "locked": false,
     "schema_version": 3,
     "solution": true,
     "task": false
    }
   },
   "outputs": [],
   "source": [
    "def construct_A_and_b(x, y):\n",
    "    '''\n",
    "    Arguments:\n",
    "        x : 1D np.array, data x\n",
    "        y : 1D np.array, data y\n",
    "\n",
    "    Returns:\n",
    "        A : 2D np.array\n",
    "        b : 1D np.array\n",
    "    '''\n",
    "\n",
    "    # ===== 請實做程式 =====\n",
    "    b=np.array(x*x)\n",
    "    A=np.column_stack((y*y,x*y,x,y,np.ones(len(x))))\n",
    "    return A,b\n",
    "    # ===================="
   ]
  },
  {
   "cell_type": "markdown",
   "metadata": {
    "deletable": false,
    "editable": false,
    "nbgrader": {
     "cell_type": "markdown",
     "checksum": "7c1d49ffbc0429c7c5ec9b58daed5617",
     "grade": false,
     "grade_id": "cell-7b29852fcf63a8e7",
     "locked": true,
     "schema_version": 3,
     "solution": false,
     "task": false
    }
   },
   "source": [
    "Check your $A$ and $b$."
   ]
  },
  {
   "cell_type": "code",
   "execution_count": 8,
   "metadata": {
    "deletable": false,
    "editable": false,
    "nbgrader": {
     "cell_type": "code",
     "checksum": "2e94d3aaa92a91443a948a4c6ee960b7",
     "grade": true,
     "grade_id": "cell-ab0180156b91fc0c",
     "locked": true,
     "points": 2,
     "schema_version": 3,
     "solution": false,
     "task": false
    }
   },
   "outputs": [
    {
     "name": "stdout",
     "output_type": "stream",
     "text": [
      "A:\n",
      " [[0.1521 0.3978 1.02   0.39   1.    ]\n",
      " [0.1024 0.304  0.95   0.32   1.    ]\n",
      " [0.0729 0.2349 0.87   0.27   1.    ]\n",
      " [0.0484 0.1694 0.77   0.22   1.    ]\n",
      " [0.0324 0.1206 0.67   0.18   1.    ]\n",
      " [0.0225 0.084  0.56   0.15   1.    ]\n",
      " [0.0169 0.0572 0.44   0.13   1.    ]\n",
      " [0.0144 0.036  0.3    0.12   1.    ]\n",
      " [0.0169 0.0208 0.16   0.13   1.    ]\n",
      " [0.0225 0.0015 0.01   0.15   1.    ]]\n",
      "b:\n",
      " [1.0404e+00 9.0250e-01 7.5690e-01 5.9290e-01 4.4890e-01 3.1360e-01\n",
      " 1.9360e-01 9.0000e-02 2.5600e-02 1.0000e-04]\n"
     ]
    }
   ],
   "source": [
    "A, b = construct_A_and_b(data_x, data_y)\n",
    "print('A:\\n', A)\n",
    "print('b:\\n', b)"
   ]
  },
  {
   "cell_type": "markdown",
   "metadata": {
    "deletable": false,
    "editable": false,
    "nbgrader": {
     "cell_type": "markdown",
     "checksum": "7a7068bcd569505684633be0ad1b1c93",
     "grade": false,
     "grade_id": "cell-d9ff8aff08ddb4c6",
     "locked": true,
     "schema_version": 3,
     "solution": false,
     "task": false
    }
   },
   "source": [
    "### Part 1.3\n",
    "\n",
    "As the [lecture](https://ceiba.ntu.edu.tw/course/7a770d/content/cmath2019_note4_linear_system_cholesky.pdf) noted, to solve the noraml eqaution via Cholesky factorization we need additional __Forward substitution__ and __Backward substituion__ besides the __Cholesky factorization__. Please implement and check these three algorithms at below."
   ]
  },
  {
   "cell_type": "markdown",
   "metadata": {
    "deletable": false,
    "editable": false,
    "nbgrader": {
     "cell_type": "markdown",
     "checksum": "f03fc7df4121697d42440c25ba6bc4fb",
     "grade": false,
     "grade_id": "cell-24049f7c17577374",
     "locked": true,
     "schema_version": 3,
     "solution": false,
     "task": false
    }
   },
   "source": [
    "__Algorithm 1__: Implement forward substitution to solve $$Lx=b,$$ where $L$ is a lower triangular matrix and $b$ is a column vector.\n",
    "\n",
    "(Note that you need to implement it by hand, simply using some package functions is not allowed.)"
   ]
  },
  {
   "cell_type": "code",
   "execution_count": 9,
   "metadata": {
    "deletable": false,
    "nbgrader": {
     "cell_type": "code",
     "checksum": "832991b5b27cd1dd0dea060aefa7e156",
     "grade": false,
     "grade_id": "cell-ce0fa6cdd51f7df3",
     "locked": false,
     "schema_version": 3,
     "solution": true,
     "task": false
    }
   },
   "outputs": [],
   "source": [
    "def forward_substitution(L, b):\n",
    "    '''\n",
    "    Arguments:\n",
    "        L : 2D lower triangular np.array\n",
    "        b : 1D np.array\n",
    "\n",
    "    Return:\n",
    "        x : solution to Lx = b\n",
    "    '''\n",
    "\n",
    "    # ===== 請實做程式 =====\n",
    "    m=L.shape[0]\n",
    "    x = np.zeros(m)\n",
    "    for i in range(m):\n",
    "        r = sum([L[i, j] * x[j] for j in range(i)])\n",
    "        x[i] = (b[i] - r) / L[i, i]\n",
    "    return x\n",
    "    # ===================="
   ]
  },
  {
   "cell_type": "markdown",
   "metadata": {
    "deletable": false,
    "editable": false,
    "nbgrader": {
     "cell_type": "markdown",
     "checksum": "6622d05332867a119f7709cfdbbc928b",
     "grade": false,
     "grade_id": "cell-7caed9e23cb492d4",
     "locked": true,
     "schema_version": 3,
     "solution": false,
     "task": false
    }
   },
   "source": [
    "Check your function."
   ]
  },
  {
   "cell_type": "code",
   "execution_count": 10,
   "metadata": {
    "deletable": false,
    "editable": false,
    "nbgrader": {
     "cell_type": "code",
     "checksum": "47558e59dfb077430ce6b83c7f243f16",
     "grade": true,
     "grade_id": "cell-55c3537517a849a7",
     "locked": true,
     "points": 2,
     "schema_version": 3,
     "solution": false,
     "task": false
    }
   },
   "outputs": [
    {
     "name": "stdout",
     "output_type": "stream",
     "text": [
      "L:\n",
      " [[1 0 0 0]\n",
      " [2 1 0 0]\n",
      " [4 5 6 0]\n",
      " [1 2 3 4]]\n",
      "x:\n",
      " [11 22 33 24]\n",
      "My answer:\n",
      " [11. 22. 33. 24.]\n"
     ]
    }
   ],
   "source": [
    "L = np.array([\n",
    "    [1, 0, 0, 0],\n",
    "    [2, 1, 0, 0],\n",
    "    [4, 5, 6, 0],\n",
    "    [1, 2, 3, 4]\n",
    "])\n",
    "x = np.array([11, 22, 33, 24])\n",
    "print('L:\\n', L)\n",
    "print('x:\\n', x)\n",
    "print('My answer:\\n', forward_substitution(L, L @ x))"
   ]
  },
  {
   "cell_type": "markdown",
   "metadata": {
    "deletable": false,
    "editable": false,
    "nbgrader": {
     "cell_type": "markdown",
     "checksum": "8b625bbb5a65aeb11421738b7c169f98",
     "grade": false,
     "grade_id": "cell-c9deb280f73a4372",
     "locked": true,
     "schema_version": 3,
     "solution": false,
     "task": false
    }
   },
   "source": [
    "__Algorithm 2__: Implement backward substitution to solve $$Rx=b,$$ where $R$ is an upper triangular matrix and $b$ is a column vector.\n",
    "\n",
    "(Note that you need to implement it by hand, simply using some package functions is not allowed.)"
   ]
  },
  {
   "cell_type": "code",
   "execution_count": 11,
   "metadata": {
    "deletable": false,
    "nbgrader": {
     "cell_type": "code",
     "checksum": "0b581f9add4dd0c96dd34659d2647c5d",
     "grade": false,
     "grade_id": "cell-fc771a889d8b8ac7",
     "locked": false,
     "schema_version": 3,
     "solution": true,
     "task": false
    }
   },
   "outputs": [],
   "source": [
    "def backward_substitution(R, b):\n",
    "    '''\n",
    "    Arguments:\n",
    "        R : 2D upper triangular np.array\n",
    "        b : 1D np.array\n",
    "\n",
    "    Return:\n",
    "        x : solution to Rx = b\n",
    "    '''\n",
    "\n",
    "    # ===== 請實做程式 =====\n",
    "    m= R.shape[0]\n",
    "    x = np.zeros(m)\n",
    "    for i in reversed(range(m)):\n",
    "        r = sum([R[i, j] * x[j] for j in range(i, m)])\n",
    "        x[i] = (b[i] - r) / R[i, i]\n",
    "    return x\n",
    "    # ===================="
   ]
  },
  {
   "cell_type": "markdown",
   "metadata": {
    "deletable": false,
    "editable": false,
    "nbgrader": {
     "cell_type": "markdown",
     "checksum": "f2d73005319ec63fe286a744425819d2",
     "grade": false,
     "grade_id": "cell-ae02858f7f5bd67f",
     "locked": true,
     "schema_version": 3,
     "solution": false,
     "task": false
    }
   },
   "source": [
    "Check your function."
   ]
  },
  {
   "cell_type": "code",
   "execution_count": 12,
   "metadata": {
    "deletable": false,
    "editable": false,
    "nbgrader": {
     "cell_type": "code",
     "checksum": "75e7757f5d743407d4c44da3eae292a5",
     "grade": true,
     "grade_id": "cell-b139cd9ef4098615",
     "locked": true,
     "points": 0,
     "schema_version": 3,
     "solution": false,
     "task": false
    }
   },
   "outputs": [
    {
     "name": "stdout",
     "output_type": "stream",
     "text": [
      "R:\n",
      " [[1 2 3]\n",
      " [0 4 5]\n",
      " [0 0 9]]\n",
      "x:\n",
      " [11 22 33]\n",
      "My answer:\n",
      " [11. 22. 33.]\n"
     ]
    }
   ],
   "source": [
    "R = np.array([\n",
    "    [1, 2, 3],\n",
    "    [0, 4, 5],\n",
    "    [0, 0, 9]\n",
    "])\n",
    "x = np.array([11, 22, 33])\n",
    "print('R:\\n', R)\n",
    "print('x:\\n', x)\n",
    "print('My answer:\\n', backward_substitution(R, R @ x))"
   ]
  },
  {
   "cell_type": "markdown",
   "metadata": {
    "deletable": false,
    "editable": false,
    "nbgrader": {
     "cell_type": "markdown",
     "checksum": "7ee4e74711986f75c4faffa7076c7896",
     "grade": false,
     "grade_id": "cell-c1beeb2984ea7c4d",
     "locked": true,
     "schema_version": 3,
     "solution": false,
     "task": false
    }
   },
   "source": [
    "__Algorithm 3__: Implement Cholesky decompostion to decompose a nonsingualr [PSD](https://www.wikiwand.com/en/Definiteness_of_a_matrix) matrix $A$ into $$A=R^T R,$$ where $R$ is an upper triangular matrix.\n",
    "\n",
    "(Note that you need to implement it by hand, simply using some package functions is not allowed.)"
   ]
  },
  {
   "cell_type": "code",
   "execution_count": 13,
   "metadata": {
    "deletable": false,
    "nbgrader": {
     "cell_type": "code",
     "checksum": "42ee709d2ee6a8462e2d798a50f22037",
     "grade": false,
     "grade_id": "cell-378a63d50d4a723a",
     "locked": false,
     "schema_version": 3,
     "solution": true,
     "task": false
    }
   },
   "outputs": [],
   "source": [
    "def cholesky_decomposition(A):\n",
    "    '''\n",
    "    Arguments:\n",
    "        A : 2D np.array\n",
    "\n",
    "    Return:\n",
    "        R : 2D np.array, A = R^T R\n",
    "    '''\n",
    "\n",
    "    # ===== 請實做程式 =====\n",
    "    m = A.shape[0]\n",
    "    R = np.zeros((m, m))\n",
    "    for i in range(m):\n",
    "        R[i, i] = np.sqrt(A[i, i] - sum(R[k, i]*R[k, i] for k in range(i)))\n",
    "        for j in range(i+1, m):\n",
    "            R[i, j] = (A[i, j] - sum(R[k, i]*R[k, j] for k in range(j))) / R[i, i]\n",
    "    return R\n",
    "    # ===================="
   ]
  },
  {
   "cell_type": "markdown",
   "metadata": {
    "deletable": false,
    "editable": false,
    "nbgrader": {
     "cell_type": "markdown",
     "checksum": "d67b241f79477f435d2bfc6e19ee5383",
     "grade": false,
     "grade_id": "cell-c72160a32576e0a3",
     "locked": true,
     "schema_version": 3,
     "solution": false,
     "task": false
    }
   },
   "source": [
    "Check your function."
   ]
  },
  {
   "cell_type": "code",
   "execution_count": 14,
   "metadata": {
    "deletable": false,
    "editable": false,
    "nbgrader": {
     "cell_type": "code",
     "checksum": "61117d62e2b92bfc9151c885f0759493",
     "grade": true,
     "grade_id": "cell-cc45a402f856cb26",
     "locked": true,
     "points": 2,
     "schema_version": 3,
     "solution": false,
     "task": false
    }
   },
   "outputs": [
    {
     "name": "stdout",
     "output_type": "stream",
     "text": [
      "A:\n",
      " [[ 30  36  48  38]\n",
      " [ 36  63  93  36]\n",
      " [ 48  93 150  31]\n",
      " [ 38  36  31  69]]\n",
      "R:\n",
      " [[ 5.47722558  6.57267069  8.76356092  6.93781906]\n",
      " [ 0.          4.44971909  7.95555838 -2.15743956]\n",
      " [ 0.          0.          3.14787085 -4.01425733]\n",
      " [ 0.          0.          0.          0.31282475]]\n",
      "A = R.T @ R:\n",
      " [[ 30.  36.  48.  38.]\n",
      " [ 36.  63.  93.  36.]\n",
      " [ 48.  93. 150.  31.]\n",
      " [ 38.  36.  31.  69.]]\n"
     ]
    }
   ],
   "source": [
    "# Construct a PSD matrix A\n",
    "_A = np.array([\n",
    "    [1, 3, 2, 4],\n",
    "    [4, 2, 1, 7],\n",
    "    [2, 5, 9, 0],\n",
    "    [3, 5, 8, 2]\n",
    "])\n",
    "A = _A.T @ _A\n",
    "\n",
    "# Do Cholesky decomposition\n",
    "R = cholesky_decomposition(A)\n",
    "print('A:\\n', A)\n",
    "print('R:\\n', R)\n",
    "print('A = R.T @ R:\\n', R.T @ R)"
   ]
  },
  {
   "cell_type": "markdown",
   "metadata": {
    "deletable": false,
    "editable": false,
    "nbgrader": {
     "cell_type": "markdown",
     "checksum": "a7b6cbd0579f7e188c52d3ad7a97f0c3",
     "grade": false,
     "grade_id": "cell-9e0d651192a8b977",
     "locked": true,
     "schema_version": 3,
     "solution": false,
     "task": false
    }
   },
   "source": [
    "### Part 1.4\n",
    "\n",
    "Implement the function `solve_alpha` to find $\\alpha$ from the associated the normal equation."
   ]
  },
  {
   "cell_type": "code",
   "execution_count": 15,
   "metadata": {
    "deletable": false,
    "nbgrader": {
     "cell_type": "code",
     "checksum": "cfbcae30fc2432e92db0f67dd364bd17",
     "grade": false,
     "grade_id": "cell-773b78ec11a0c56e",
     "locked": false,
     "schema_version": 3,
     "solution": true,
     "task": false
    }
   },
   "outputs": [],
   "source": [
    "def solve_alpha(x, y):\n",
    "    '''\n",
    "    Arguments:\n",
    "        x : 1D np.array, data x\n",
    "        y : 1D np.array, data y\n",
    "\n",
    "    Returns:\n",
    "        alpha : 1D np.array\n",
    "\n",
    "    Hints:\n",
    "        1. Find matrix A, vector b\n",
    "        2. Find the associated normal equation\n",
    "        3. Do Cholesky decomposition\n",
    "        4. Solve the equation with forward/backward substition\n",
    "    '''\n",
    "\n",
    "    # ===== 請實做程式 =====\n",
    "    A, b = construct_A_and_b(x, y)\n",
    "    transpose_A=np.transpose(A)\n",
    "    AT_A=transpose_A@A\n",
    "    R = cholesky_decomposition(AT_A)\n",
    "    transpose_R= np.transpose(R)\n",
    "    w = forward_substitution(transpose_R, transpose_A @ b)\n",
    "    alpha = backward_substitution(R, w)\n",
    "    return alpha\n",
    "    '''\n",
    "    I dont know why if i use format(A.dot(B)) instead of @\n",
    "    I get the error in cholesky_decomposition function\n",
    "    >>'str' object has no attribute 'shape' lol\n",
    "    '''\n",
    "    # ===================="
   ]
  },
  {
   "cell_type": "markdown",
   "metadata": {
    "deletable": false,
    "editable": false,
    "nbgrader": {
     "cell_type": "markdown",
     "checksum": "0b00a67443851cd6ecd996b605ccc60d",
     "grade": false,
     "grade_id": "cell-94874ea722a51473",
     "locked": true,
     "schema_version": 3,
     "solution": false,
     "task": false
    }
   },
   "source": [
    "Solve $\\alpha$ !"
   ]
  },
  {
   "cell_type": "code",
   "execution_count": 16,
   "metadata": {
    "deletable": false,
    "editable": false,
    "nbgrader": {
     "cell_type": "code",
     "checksum": "ab1ba307a4c36f4ef9260fc3badea1ab",
     "grade": true,
     "grade_id": "cell-ada65b7c60848c59",
     "locked": true,
     "points": 2,
     "schema_version": 3,
     "solution": false,
     "task": false
    }
   },
   "outputs": [
    {
     "name": "stdout",
     "output_type": "stream",
     "text": [
      "alpha:\n",
      " [-2.63562548  0.14364618  0.55144696  3.22294034 -0.43289427]\n"
     ]
    }
   ],
   "source": [
    "alpha = solve_alpha(data_x, data_y)\n",
    "print('alpha:\\n', alpha)"
   ]
  },
  {
   "cell_type": "markdown",
   "metadata": {
    "deletable": false,
    "editable": false,
    "nbgrader": {
     "cell_type": "markdown",
     "checksum": "c1cdbe367b13a513530abfcedaf6bc94",
     "grade": false,
     "grade_id": "cell-f6fb5fc0e03b664e",
     "locked": true,
     "schema_version": 3,
     "solution": false,
     "task": false
    }
   },
   "source": [
    "---\n",
    "\n",
    "## Part 2\n",
    "\n",
    "### Perturb the input data slightly by adding to each coordinate of each data point a uniformly distributed random number, and solve the least square problem as before with the perturbed data. \n",
    "\n",
    "### Compare the new values for the parameters with those previously computed. What effect does this difference have on the plot of the orbit ?"
   ]
  },
  {
   "cell_type": "markdown",
   "metadata": {
    "deletable": false,
    "editable": false,
    "nbgrader": {
     "cell_type": "markdown",
     "checksum": "07ed144d9ec16ae32d2ecb70f6eabab8",
     "grade": false,
     "grade_id": "cell-7932ac6bc944b286",
     "locked": true,
     "schema_version": 3,
     "solution": false,
     "task": false
    }
   },
   "source": [
    "### Part 2.1\n",
    "\n",
    "In order to plot the orbit, we need to transform the equation (1) into a graph $z = f(x, y, \\alpha)$ and then plot the contour at $z = 0$ by the tool `plt.contour`."
   ]
  },
  {
   "cell_type": "code",
   "execution_count": 17,
   "metadata": {
    "deletable": false,
    "nbgrader": {
     "cell_type": "code",
     "checksum": "601404e777eee606e6a119f6dca6ef0d",
     "grade": false,
     "grade_id": "cell-77601193e96a90ff",
     "locked": false,
     "schema_version": 3,
     "solution": true,
     "task": false
    }
   },
   "outputs": [],
   "source": [
    "def ellipse(x, y, alpha):\n",
    "    '''\n",
    "    Arguments:\n",
    "        x : 1D np.array, data x\n",
    "        y : 1D np.array, data y\n",
    "        alpha : 1D np.array, the coefficients\n",
    "\n",
    "    Returns:\n",
    "        z : 1D np.array, z=f(x, y, alpha) from equation (1)\n",
    "    '''\n",
    "    # ===== 請實做程式 =====\n",
    "    z=0\n",
    "    z=z+alpha[0]*y*y\n",
    "    z=z+alpha[1]*x*y\n",
    "    z=z+alpha[2]*x\n",
    "    z=z+alpha[3]*y\n",
    "    z=z+alpha[4]*1\n",
    "    z=z-x*x\n",
    "    return z\n",
    "    # ===================="
   ]
  },
  {
   "cell_type": "markdown",
   "metadata": {
    "deletable": false,
    "editable": false,
    "nbgrader": {
     "cell_type": "markdown",
     "checksum": "422403dc9f1af6611be27f2145a3dae8",
     "grade": false,
     "grade_id": "cell-85989de461e578be",
     "locked": true,
     "schema_version": 3,
     "solution": false,
     "task": false
    }
   },
   "source": [
    "Plot the orbit."
   ]
  },
  {
   "cell_type": "code",
   "execution_count": 18,
   "metadata": {
    "deletable": false,
    "editable": false,
    "nbgrader": {
     "cell_type": "code",
     "checksum": "1b89b99806c00a04827bd790d6a57e19",
     "grade": true,
     "grade_id": "cell-c944b24065f4673f",
     "locked": true,
     "points": 2,
     "schema_version": 3,
     "solution": false,
     "task": false
    }
   },
   "outputs": [
    {
     "data": {
      "image/png": "[encoded data removed]",
      "text/plain": [
       "<Figure size 432x288 with 1 Axes>"
      ]
     },
     "metadata": {
      "needs_background": "light"
     },
     "output_type": "display_data"
    }
   ],
   "source": [
    "# Plot the exact data points (x,y)\n",
    "plt.scatter(data_x, data_y, label='data')\n",
    "\n",
    "# Prepare mesh data points (X,Y) to plot the orbit\n",
    "X, Y = np.meshgrid(\n",
    "    np.linspace(-1, 1.5, 100),\n",
    "    np.linspace(0, 1.5, 100)\n",
    ")\n",
    "# Plot the level curve at z = 0 only\n",
    "plt.contour(X, Y, ellipse(X, Y, alpha), [0])\n",
    "\n",
    "plt.xlabel('x')\n",
    "plt.ylabel('y')\n",
    "plt.legend()\n",
    "plt.show()"
   ]
  },
  {
   "cell_type": "markdown",
   "metadata": {
    "deletable": false,
    "editable": false,
    "nbgrader": {
     "cell_type": "markdown",
     "checksum": "fd261cb4ad7f514d23c1da06d52225d0",
     "grade": false,
     "grade_id": "cell-7b7deeb0603f6f3e",
     "locked": true,
     "schema_version": 3,
     "solution": false,
     "task": false
    }
   },
   "source": [
    "### Part 2.2\n",
    "\n",
    "Now perturb the original data with some slight, uniformly random noise and follow the steps as before to find new `perturbed_x`, `perturbed_y`, `perturbed_alpha`."
   ]
  },
  {
   "cell_type": "code",
   "execution_count": 19,
   "metadata": {
    "deletable": false,
    "nbgrader": {
     "cell_type": "code",
     "checksum": "cc8c36d214fbb3459df486185cd4656c",
     "grade": false,
     "grade_id": "cell-d77e3db377fdd239",
     "locked": false,
     "schema_version": 3,
     "solution": true,
     "task": false
    }
   },
   "outputs": [],
   "source": [
    "'''\n",
    "Hint:\n",
    "    perturbed_x = ?\n",
    "    perturbed_y = ?\n",
    "    perturbed_alpha = ?\n",
    "'''\n",
    "\n",
    "# ===== 請實做程式 =====\n",
    "len_x=len(data_x)\n",
    "len_y=len(data_y)\n",
    "small_x=np.random.rand(len_x) * 0.00000001\n",
    "small_y=np.random.rand(len_y) * 0.00000001\n",
    "perturbed_x=data_x+small_x\n",
    "perturbed_y=data_y+small_y\n",
    "perturbed_alpha=solve_alpha(perturbed_x, perturbed_y)\n",
    "# ===================="
   ]
  },
  {
   "cell_type": "markdown",
   "metadata": {
    "deletable": false,
    "editable": false,
    "nbgrader": {
     "cell_type": "markdown",
     "checksum": "273f2ce9256952309230efae674a553c",
     "grade": false,
     "grade_id": "cell-912c54772c7041e4",
     "locked": true,
     "schema_version": 3,
     "solution": false,
     "task": false
    }
   },
   "source": [
    "Overlay the new perturbed orbit on the plot."
   ]
  },
  {
   "cell_type": "code",
   "execution_count": 20,
   "metadata": {
    "deletable": false,
    "editable": false,
    "nbgrader": {
     "cell_type": "code",
     "checksum": "04d19c921b34a1d4210a8a6f1634b581",
     "grade": true,
     "grade_id": "cell-7428d2eef3884195",
     "locked": true,
     "points": 2,
     "schema_version": 3,
     "solution": false,
     "task": false
    }
   },
   "outputs": [
    {
     "data": {
      "image/png": "[encoded data removed]",
      "text/plain": [
       "<Figure size 432x288 with 1 Axes>"
      ]
     },
     "metadata": {
      "needs_background": "light"
     },
     "output_type": "display_data"
    }
   ],
   "source": [
    "# Plot the exact data points (x,y)\n",
    "plt.scatter(data_x, data_y, label='data')\n",
    "\n",
    "# Plot the perturbed data points \n",
    "plt.scatter(perturbed_x, perturbed_y, label='perturbed_data')\n",
    "\n",
    "# Prepare mesh data points (X,Y) to plot the orbits\n",
    "X, Y = np.meshgrid(\n",
    "    np.linspace(-1, 1.5, 100),\n",
    "    np.linspace(0, 1.5, 100)\n",
    ")\n",
    "\n",
    "# Plot the level curve at z = 0 \n",
    "plt.contour(X, Y, ellipse(X, Y, alpha), [0])\n",
    "\n",
    "# Plot the level curve at z = 0 after perturbed\n",
    "plt.contour(X, Y, ellipse(X, Y, perturbed_alpha), [0])\n",
    "\n",
    "plt.xlabel('x')\n",
    "plt.ylabel('y')\n",
    "plt.legend()\n",
    "plt.show()"
   ]
  },
  {
   "cell_type": "markdown",
   "metadata": {
    "deletable": false,
    "editable": false,
    "nbgrader": {
     "cell_type": "markdown",
     "checksum": "e74ee99968623bd4dfe1d1c0b2acf6a1",
     "grade": false,
     "grade_id": "cell-2894b6242109f403",
     "locked": true,
     "points": 5,
     "schema_version": 3,
     "solution": false,
     "task": true
    }
   },
   "source": [
    "### Part 2.3\n",
    "\n",
    "Try some different perturbations and compare the orbits before and after your perturbation. What's your observation? "
   ]
  },
  {
   "cell_type": "markdown",
   "metadata": {},
   "source": [
    "$$\n",
    "If\\,take\\,small_x(y)\\,=\\,np.random.rand(len_x(y)) * 0.0001\\,the\\,graph\\,of\\,the\\,track\\,is\\,very\\,close\\,to\\,part2.1\\\\\n",
    "If\\,take\\,small_x(y)\\,=\\,np.random.rand(len_x(y)) * 0.001\\,the\\,graph\\,of\\,the\\,track\\,is\\,a\\,little\\,bit\\,smaller\\,compared\\,to\\,part2.1\\\\\n",
    "If\\,take\\,small_x(y)\\,=\\,np.random.rand(len_x(y)) * 0.001\\,the\\,graph\\,of\\,the\\,track\\,is\\,more\\,smaller\\,compared\\,to\\,part2.1\\\\\n",
    "If\\,take\\,small_x(y)\\,=\\,np.random.rand(len_x(y)) * 0.00001\\,then\\,the,graph\\,looks\\,almost\\,same\\,as\\,part2.1\\\\\n",
    "$$\n"
   ]
  }
 ],
 "metadata": {
  "kernelspec": {
   "display_name": "Python 3",
   "language": "python",
   "name": "python3"
  },
  "language_info": {
   "codemirror_mode": {
    "name": "ipython",
    "version": 3
   },
   "file_extension": ".py",
   "mimetype": "text/x-python",
   "name": "python",
   "nbconvert_exporter": "python",
   "pygments_lexer": "ipython3",
   "version": "3.7.3"
  }
 },
 "nbformat": 4,
 "nbformat_minor": 2
}
